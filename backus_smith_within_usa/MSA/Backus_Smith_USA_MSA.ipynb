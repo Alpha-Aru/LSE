{
 "cells": [
  {
   "cell_type": "code",
   "execution_count": 8,
   "id": "55d2d101",
   "metadata": {},
   "outputs": [],
   "source": [
    "import pandas as pd\n",
    "import numpy as np\n",
    "import itertools"
   ]
  },
  {
   "cell_type": "code",
   "execution_count": 15,
   "id": "09738d3c",
   "metadata": {},
   "outputs": [],
   "source": [
    "df_price_parities = pd.read_csv ('MARPP Regional price parities by MSA.csv', skiprows=3)\n",
    "\n",
    "df_price_parities = df_price_parities[df_price_parities['LineCode'] == 1]\n",
    "df_price_parities = df_price_parities[~df_price_parities['GeoFips'].isin(['00000', '00999'])]\n",
    "df_price_parities = df_price_parities[df_price_parities['Description'] == 'RPPs: All items']\n",
    "\n",
    "\n",
    "\n"
   ]
  },
  {
   "cell_type": "code",
   "execution_count": 16,
   "id": "7980297e",
   "metadata": {},
   "outputs": [],
   "source": [
    "df_long = pd.melt(df_price_parities, id_vars=['GeoFips', 'GeoName', 'LineCode', 'Description'], var_name='Year', value_name='CPI')\n",
    "\n",
    "df_long = df_long[df_long['GeoName'] != 'Twin Falls, ID (Metropolitan Statistical Area) *']\n",
    "df_long = df_long[df_long['GeoName'] != 'Poughkeepsie-Newburgh-Middletown, NY (Metropolitan Statistical Area) *']\n",
    "\n",
    "df_long = df_long[['GeoName','GeoFips', 'Year', 'CPI']]\n",
    "df_long = df_long[df_long['CPI'] != '(NA)']"
   ]
  },
  {
   "cell_type": "code",
   "execution_count": null,
   "id": "80ca49a8",
   "metadata": {},
   "outputs": [],
   "source": [
    "df_long2 = df_long\n",
    "df_merged = df_long.merge(df_long2, on='Year')\n",
    "df_merged = df_merged[df_merged['GeoName_x'] != df_merged['GeoName_y']]\n",
    "df_merged['rer'] = df_merged['CPI_x'].apply(lambda x: float(x)) / df_merged['CPI_y'].apply(lambda x: float(x))"
   ]
  }
 ],
 "metadata": {
  "kernelspec": {
   "display_name": "Python 3 (ipykernel)",
   "language": "python",
   "name": "python3"
  },
  "language_info": {
   "codemirror_mode": {
    "name": "ipython",
    "version": 3
   },
   "file_extension": ".py",
   "mimetype": "text/x-python",
   "name": "python",
   "nbconvert_exporter": "python",
   "pygments_lexer": "ipython3",
   "version": "3.11.4"
  }
 },
 "nbformat": 4,
 "nbformat_minor": 5
}
